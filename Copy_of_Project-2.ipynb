{
  "nbformat": 4,
  "nbformat_minor": 0,
  "metadata": {
    "colab": {
      "provenance": []
    },
    "kernelspec": {
      "name": "python3",
      "display_name": "Python 3"
    },
    "language_info": {
      "name": "python"
    }
  },
  "cells": [
    {
      "cell_type": "code",
      "execution_count": 3,
      "metadata": {
        "id": "LgkvCm5AT6NA",
        "colab": {
          "base_uri": "https://localhost:8080/"
        },
        "outputId": "f82297b0-2d59-4b94-b189-c2eb82d2352a"
      },
      "outputs": [
        {
          "output_type": "stream",
          "name": "stdout",
          "text": [
            "Training features shape: (1688, 24)\n",
            "Testing features shape: (423, 24)\n",
            "Training labels shape: (1688,)\n",
            "Testing labels shape: (423,)\n"
          ]
        },
        {
          "output_type": "stream",
          "name": "stderr",
          "text": [
            "/usr/local/lib/python3.10/dist-packages/xgboost/core.py:158: UserWarning: [00:03:13] WARNING: /workspace/src/learner.cc:740: \n",
            "Parameters: { \"use_label_encoder\" } are not used.\n",
            "\n",
            "  warnings.warn(smsg, UserWarning)\n",
            "/usr/local/lib/python3.10/dist-packages/xgboost/core.py:158: UserWarning: [00:03:13] WARNING: /workspace/src/learner.cc:740: \n",
            "Parameters: { \"use_label_encoder\" } are not used.\n",
            "\n",
            "  warnings.warn(smsg, UserWarning)\n",
            "/usr/local/lib/python3.10/dist-packages/xgboost/core.py:158: UserWarning: [00:03:14] WARNING: /workspace/src/learner.cc:740: \n",
            "Parameters: { \"use_label_encoder\" } are not used.\n",
            "\n",
            "  warnings.warn(smsg, UserWarning)\n",
            "/usr/local/lib/python3.10/dist-packages/xgboost/core.py:158: UserWarning: [00:03:14] WARNING: /workspace/src/learner.cc:740: \n",
            "Parameters: { \"use_label_encoder\" } are not used.\n",
            "\n",
            "  warnings.warn(smsg, UserWarning)\n",
            "/usr/local/lib/python3.10/dist-packages/xgboost/core.py:158: UserWarning: [00:03:14] WARNING: /workspace/src/learner.cc:740: \n",
            "Parameters: { \"use_label_encoder\" } are not used.\n",
            "\n",
            "  warnings.warn(smsg, UserWarning)\n",
            "/usr/local/lib/python3.10/dist-packages/xgboost/core.py:158: UserWarning: [00:03:14] WARNING: /workspace/src/learner.cc:740: \n",
            "Parameters: { \"use_label_encoder\" } are not used.\n",
            "\n",
            "  warnings.warn(smsg, UserWarning)\n",
            "/usr/local/lib/python3.10/dist-packages/xgboost/core.py:158: UserWarning: [00:03:15] WARNING: /workspace/src/learner.cc:740: \n",
            "Parameters: { \"use_label_encoder\" } are not used.\n",
            "\n",
            "  warnings.warn(smsg, UserWarning)\n",
            "/usr/local/lib/python3.10/dist-packages/xgboost/core.py:158: UserWarning: [00:03:15] WARNING: /workspace/src/learner.cc:740: \n",
            "Parameters: { \"use_label_encoder\" } are not used.\n",
            "\n",
            "  warnings.warn(smsg, UserWarning)\n",
            "/usr/local/lib/python3.10/dist-packages/xgboost/core.py:158: UserWarning: [00:03:15] WARNING: /workspace/src/learner.cc:740: \n",
            "Parameters: { \"use_label_encoder\" } are not used.\n",
            "\n",
            "  warnings.warn(smsg, UserWarning)\n",
            "/usr/local/lib/python3.10/dist-packages/xgboost/core.py:158: UserWarning: [00:03:15] WARNING: /workspace/src/learner.cc:740: \n",
            "Parameters: { \"use_label_encoder\" } are not used.\n",
            "\n",
            "  warnings.warn(smsg, UserWarning)\n",
            "/usr/local/lib/python3.10/dist-packages/xgboost/core.py:158: UserWarning: [00:03:16] WARNING: /workspace/src/learner.cc:740: \n",
            "Parameters: { \"use_label_encoder\" } are not used.\n",
            "\n",
            "  warnings.warn(smsg, UserWarning)\n",
            "/usr/local/lib/python3.10/dist-packages/xgboost/core.py:158: UserWarning: [00:03:16] WARNING: /workspace/src/learner.cc:740: \n",
            "Parameters: { \"use_label_encoder\" } are not used.\n",
            "\n",
            "  warnings.warn(smsg, UserWarning)\n",
            "/usr/local/lib/python3.10/dist-packages/xgboost/core.py:158: UserWarning: [00:03:16] WARNING: /workspace/src/learner.cc:740: \n",
            "Parameters: { \"use_label_encoder\" } are not used.\n",
            "\n",
            "  warnings.warn(smsg, UserWarning)\n",
            "/usr/local/lib/python3.10/dist-packages/xgboost/core.py:158: UserWarning: [00:03:16] WARNING: /workspace/src/learner.cc:740: \n",
            "Parameters: { \"use_label_encoder\" } are not used.\n",
            "\n",
            "  warnings.warn(smsg, UserWarning)\n",
            "/usr/local/lib/python3.10/dist-packages/xgboost/core.py:158: UserWarning: [00:03:17] WARNING: /workspace/src/learner.cc:740: \n",
            "Parameters: { \"use_label_encoder\" } are not used.\n",
            "\n",
            "  warnings.warn(smsg, UserWarning)\n"
          ]
        },
        {
          "output_type": "stream",
          "name": "stdout",
          "text": [
            "\n",
            "Model: SVM\n",
            "Accuracy: 0.946 ± 0.005\n",
            "Recall: 0.946 ± 0.005\n",
            "F1: 0.946 ± 0.004\n",
            "\n",
            "Model: Random Forest\n",
            "Accuracy: 0.984 ± 0.005\n",
            "Recall: 0.984 ± 0.005\n",
            "F1: 0.984 ± 0.005\n",
            "\n",
            "Model: XGBoost\n",
            "Accuracy: 0.985 ± 0.006\n",
            "Recall: 0.985 ± 0.006\n",
            "F1: 0.985 ± 0.005\n",
            "\n",
            "Model: Decision Tree\n",
            "Accuracy: 0.969 ± 0.010\n",
            "Recall: 0.969 ± 0.010\n",
            "F1: 0.969 ± 0.010\n"
          ]
        }
      ],
      "source": [
        "# Data manipulation and preprocessing\n",
        "import pandas as pd\n",
        "from sklearn.preprocessing import LabelEncoder, OneHotEncoder, StandardScaler\n",
        "\n",
        "# Model selection and cross-validation\n",
        "from sklearn.model_selection import train_test_split, cross_val_score, StratifiedKFold\n",
        "\n",
        "# Machine learning models\n",
        "from sklearn.svm import SVC\n",
        "from sklearn.ensemble import RandomForestClassifier, GradientBoostingClassifier\n",
        "from xgboost import XGBClassifier\n",
        "from sklearn.tree import DecisionTreeClassifier\n",
        "\n",
        "# Evaluation metrics\n",
        "from sklearn.metrics import make_scorer, accuracy_score, recall_score, f1_score\n",
        "\n",
        "# Utilities\n",
        "import numpy as np\n",
        "\n",
        "\n",
        "# Load your dataset (replace 'dataset.csv' with the actual file path)\n",
        "df = pd.read_csv('train.csv')\n",
        "\n",
        "# Step 1: Encode 'Gender' (Binary encoding)\n",
        "df['Gender'] = df['Gender'].apply(lambda x: 1 if x == 'Male' else 0)\n",
        "\n",
        "# Step 2: Encode 'family_history_with_overweight', 'FAVC', 'SMOKE', 'SCC' (Binary encoding)\n",
        "binary_columns = ['family_history_with_overweight', 'FAVC', 'SMOKE', 'SCC']\n",
        "for col in binary_columns:\n",
        "    df[col] = df[col].apply(lambda x: 1 if x == 'yes' else 0)\n",
        "\n",
        "# Step 3: Ordinal encoding for 'FCVC', 'NCP', 'FAF', 'TUE'\n",
        "# These are already numeric, so no transformation is necessary, but ensure they are integers\n",
        "ordinal_columns = ['FCVC', 'NCP', 'FAF', 'TUE']\n",
        "df[ordinal_columns] = df[ordinal_columns].astype(int)\n",
        "\n",
        "# Step 4: One-hot encode 'CAEC', 'CALC', 'MTRANS' (One-hot encoding for categorical with multiple levels)\n",
        "categorical_columns = ['CAEC', 'CALC', 'MTRANS']\n",
        "df = pd.get_dummies(df, columns=categorical_columns, drop_first=True)\n",
        "\n",
        "# Step 5: Feature Engineering - Calculate BMI\n",
        "df['BMI'] = df['Weight'] / (df['Height'] ** 2)\n",
        "\n",
        "# Step 6: Normalize or standardize continuous features (Age, Height, Weight, CH2O, BMI)\n",
        "scaler = StandardScaler()\n",
        "continuous_columns = ['Age', 'Height', 'Weight', 'CH2O', 'BMI']\n",
        "df[continuous_columns] = scaler.fit_transform(df[continuous_columns])\n",
        "\n",
        "# Step 7: Encode target variable 'NObeyesdad'\n",
        "# Use LabelEncoder if it’s ordinal, or OneHotEncoder if not. Here we use LabelEncoder for simplicity.\n",
        "label_encoder = LabelEncoder()\n",
        "df['NObeyesdad'] = label_encoder.fit_transform(df['NObeyesdad'])\n",
        "\n",
        "# Step 8: Split into features and target variable\n",
        "X = df.drop('NObeyesdad', axis=1)\n",
        "y = df['NObeyesdad']\n",
        "\n",
        "# Step 9: Train-test split\n",
        "X_train, X_test, y_train, y_test = train_test_split(X, y, test_size=0.2, random_state=42)\n",
        "\n",
        "# Final result\n",
        "print(\"Training features shape:\", X_train.shape)\n",
        "print(\"Testing features shape:\", X_test.shape)\n",
        "print(\"Training labels shape:\", y_train.shape)\n",
        "print(\"Testing labels shape:\", y_test.shape)\n",
        "\n",
        "scoring_metrics = {\n",
        "    'accuracy': make_scorer(accuracy_score),\n",
        "    'recall': make_scorer(recall_score, average='weighted'),  # weighted for class imbalance\n",
        "    'f1': make_scorer(f1_score, average='weighted')\n",
        "}\n",
        "\n",
        "cv = StratifiedKFold(n_splits=5, shuffle=True, random_state=42)\n",
        "\n",
        "# Initialize models\n",
        "models = {\n",
        "    'SVM': SVC(),\n",
        "    'Random Forest': RandomForestClassifier(random_state=42),\n",
        "    'XGBoost': XGBClassifier(use_label_encoder=False, eval_metric='mlogloss', random_state=42),\n",
        "    'Decision Tree': DecisionTreeClassifier(random_state=42)\n",
        "}\n",
        "\n",
        "# Dictionary to store results\n",
        "model_results = {}\n",
        "\n",
        "# Evaluate each model using cross-validation\n",
        "for model_name, model in models.items():\n",
        "    model_metrics = {}\n",
        "    for metric_name, scorer in scoring_metrics.items():\n",
        "        scores = cross_val_score(model, X, y, scoring=scorer, cv=cv)\n",
        "        model_metrics[metric_name] = (np.mean(scores), np.std(scores))\n",
        "    model_results[model_name] = model_metrics\n",
        "\n",
        "# Display the results\n",
        "for model_name, metrics in model_results.items():\n",
        "    print(f\"\\nModel: {model_name}\")\n",
        "    for metric, (mean, std) in metrics.items():\n",
        "        print(f\"{metric.capitalize()}: {mean:.3f} ± {std:.3f}\")\n"
      ]
    },
    {
      "cell_type": "markdown",
      "source": [],
      "metadata": {
        "id": "KVVdi_Ie0Q2b"
      }
    },
    {
      "cell_type": "code",
      "source": [],
      "metadata": {
        "id": "O425yq6d0RP_"
      },
      "execution_count": null,
      "outputs": []
    },
    {
      "cell_type": "markdown",
      "source": [
        "Preprocessing of the data - data loading , data parsing"
      ],
      "metadata": {
        "id": "R2Ecy5HIT6-D"
      }
    },
    {
      "cell_type": "markdown",
      "source": [
        "Feature selection and engineering - BMI need to add a new column and calculate the BMI as stated in proposal"
      ],
      "metadata": {
        "id": "ovYi8Ex6UAM8"
      }
    },
    {
      "cell_type": "markdown",
      "source": [
        "Choose algo XGBoost algo , SVM, Random Forest , Gradient Boosting Classifier , Decision Tree Classifier"
      ],
      "metadata": {
        "id": "5JLJ40-TUSxI"
      }
    },
    {
      "cell_type": "markdown",
      "source": [
        "data Split - 80 -20, Main evaluation metric for this problem - F1 score , recall and accuracy"
      ],
      "metadata": {
        "id": "p8QTQI5BUr23"
      }
    }
  ]
}